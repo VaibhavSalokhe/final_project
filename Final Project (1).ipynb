{
 "cells": [
  {
   "cell_type": "markdown",
   "id": "10e13428-117a-42a9-b567-99dcbcead39c",
   "metadata": {},
   "source": [
    "# Final Project Notebook"
   ]
  },
  {
   "cell_type": "markdown",
   "id": "1930a06f-f8a4-4813-ab6f-2b2ebf227984",
   "metadata": {},
   "source": [
    "## Introduction\n",
    "This notebook is created as part of the final project for the course.Python coding, and data science concepts and also I learned here How to use markdown how to work in juoiter notebook\n"
   ]
  },
  {
   "cell_type": "markdown",
   "id": "19695ad9-2f1d-481f-a79a-41ba4f6fe43d",
   "metadata": {},
   "source": [
    "## Data Science Languages\n",
    "- Python\n",
    "- R\n",
    "- Julia\n",
    "- SQL\n",
    "\n"
   ]
  },
  {
   "cell_type": "markdown",
   "id": "ba612d5c-3a37-40aa-80bc-14944e93f377",
   "metadata": {},
   "source": [
    "## Exercise 5:- Data Science Libraries\n",
    "- NumPy\n",
    "- Pandas\n",
    "- Matplotlib\n",
    "- Scikit-learn\n",
    "- TensorFlow"
   ]
  },
  {
   "cell_type": "markdown",
   "id": "b34fe8cf-6942-4024-a4cc-6b561901fb8e",
   "metadata": {},
   "source": [
    "## Exercise 6:- Data Science Tools\n",
    "\n",
    "| Tool            | Description        |\n",
    "|----------------|-----------------------|\n",
    "| Jupyter Notebook | Interactive coding environment |\n",
    "| RStudio         | IDE for R programming       |\n",
    "| Apache Spark    | Big data processing         |\n",
    "| Tableau        | Data visualization          |\n"
   ]
  },
  {
   "cell_type": "markdown",
   "id": "a0376dc7-88ef-487a-87ff-ac1a3e709ab6",
   "metadata": {},
   "source": [
    "## Exercise 7:- Arithmetic Expression Examples \n",
    "Below are some examples of arithmetic expressions in Python.\n"
   ]
  },
  {
   "cell_type": "code",
   "execution_count": 1,
   "id": "82227d2c-a17b-412e-a06d-ac6b12254caf",
   "metadata": {},
   "outputs": [
    {
     "name": "stdout",
     "output_type": "stream",
     "text": [
      "Multiplication: 15\n",
      "Addition: 8\n"
     ]
    }
   ],
   "source": [
    "## Multiply and Add Numbers\n",
    "a = 5\n",
    "b = 3\n",
    "result_mult = a * b\n",
    "result_add = a + b\n",
    "print(\"Multiplication:\", result_mult)\n",
    "print(\"Addition:\", result_add)\n"
   ]
  },
  {
   "cell_type": "code",
   "execution_count": 3,
   "id": "352c868f-8324-4bc8-9bdb-cbea4ffc60f9",
   "metadata": {},
   "outputs": [
    {
     "name": "stdout",
     "output_type": "stream",
     "text": [
      "120 minutes is equal to 2.0 hours\n"
     ]
    }
   ],
   "source": [
    "# Exercise 9:-Convert Minutes to Hours\n",
    "minutes = 120\n",
    "hours = minutes / 60\n",
    "print(f\"{minutes} minutes is equal to {hours} hours\")\n"
   ]
  },
  {
   "cell_type": "markdown",
   "id": "219f2846-8826-4221-8530-f6af65be0196",
   "metadata": {},
   "source": [
    "## Objectives\n",
    "- List popular languages used in data science.\n",
    "- Identify commonly used libraries.\n",
    "- Demonstrate arithmetic operations.\n",
    "- Convert time units using Python.\n",
    "- Use Markdown to format text.\n"
   ]
  },
  {
   "cell_type": "markdown",
   "id": "ca5c027d-87d5-4005-a313-2c92dae9659f",
   "metadata": {},
   "source": [
    "## Author\n",
    "**Vaibhav Salokhe**\n"
   ]
  },
  {
   "cell_type": "code",
   "execution_count": null,
   "id": "16da8d8d-b868-48ed-8d5d-0635d36b7806",
   "metadata": {},
   "outputs": [],
   "source": []
  }
 ],
 "metadata": {
  "kernelspec": {
   "display_name": "Python 3 (ipykernel)",
   "language": "python",
   "name": "python3"
  },
  "language_info": {
   "codemirror_mode": {
    "name": "ipython",
    "version": 3
   },
   "file_extension": ".py",
   "mimetype": "text/x-python",
   "name": "python",
   "nbconvert_exporter": "python",
   "pygments_lexer": "ipython3",
   "version": "3.11.3"
  }
 },
 "nbformat": 4,
 "nbformat_minor": 5
}
