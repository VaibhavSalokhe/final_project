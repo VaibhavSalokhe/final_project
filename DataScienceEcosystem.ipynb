{
 "cells": [
  {
   "cell_type": "markdown",
   "id": "2d617f14",
   "metadata": {},
   "source": [
    "# Data Science Tools and Ecosystem"
   ]
  },
  {
   "cell_type": "markdown",
   "id": "97de99a4",
   "metadata": {},
   "source": [
    "In this notebook, Data Science Tools and Ecosystem are summarized."
   ]
  },
  {
   "cell_type": "markdown",
   "id": "725f6b6c",
   "metadata": {},
   "source": [
    "## Some of the popular languages that Data Scientists use are:\n",
    "- Python\n",
    "- R\n",
    "- Julia\n",
    "- SQL\n",
    "- Matlab\n",
    "- scala\n",
    "- javascript\n",
    "- java"
   ]
  },
  {
   "cell_type": "markdown",
   "id": "11ffbe34",
   "metadata": {},
   "source": [
    "Some of the commonly used libraries used by Data Scientists include:\n",
    "- NumPy\n",
    "- Pandas\n",
    "- Matplotlib\n",
    "- Scikit-learn\n",
    "- TensorFlow"
   ]
  },
  {
   "cell_type": "markdown",
   "id": "c498f2ca",
   "metadata": {},
   "source": [
    "Data Science Tools\n",
    "\n",
    "| Tool            | Description        |\n",
    "|----------------|-----------------------|\n",
    "| Jupyter Notebook | Interactive coding environment |\n",
    "| RStudio         | IDE for R programming       |\n",
    "| Apache Spark    | Big data processing         |\n",
    "| Tableau        | Data visualization          |\n"
   ]
  },
  {
   "cell_type": "markdown",
   "id": "c34eccb5",
   "metadata": {},
   "source": [
    "### Below are a few examples of evaluating arithmetic expressions in Python \n",
    "\n"
   ]
  },
  {
   "cell_type": "code",
   "execution_count": 5,
   "id": "82227d2c-a17b-412e-a06d-ac6b12254caf",
   "metadata": {},
   "outputs": [
    {
     "data": {
      "text/plain": [
       "17"
      ]
     },
     "execution_count": 5,
     "metadata": {},
     "output_type": "execute_result"
    }
   ],
   "source": [
    "#This a simple arithmetic expression to mutiply then add integers\n",
    "(3*4)+5"
   ]
  },
  {
   "cell_type": "code",
   "execution_count": 3,
   "id": "352c868f-8324-4bc8-9bdb-cbea4ffc60f9",
   "metadata": {},
   "outputs": [
    {
     "name": "stdout",
     "output_type": "stream",
     "text": [
      "120 minutes is equal to 2.0 hours\n"
     ]
    }
   ],
   "source": [
    "# This will convert 200 minutes to hours by dividing by 60\n",
    "minutes = 200\n",
    "hours = minutes / 60\n",
    "print(hours)\n"
   ]
  },
  {
   "cell_type": "markdown",
   "id": "4505193a",
   "metadata": {},
   "source": [
    "**Objectives:**\n",
    "\n",
    "- List popular languages for Data Science  \n",
    "- Identify common libraries used in Data Science  \n",
    "- Understand the basics of Python programming  \n",
    "- Perform simple arithmetic operations in Python  \n",
    "- Convert minutes to hours using Python  \n"
   ]
  },
  {
   "cell_type": "markdown",
   "id": "34e5489f",
   "metadata": {},
   "source": [
    "## Author\n",
    "**Vaibhav Salokhe**\n"
   ]
  },
  {
   "cell_type": "code",
   "execution_count": null,
   "id": "16da8d8d-b868-48ed-8d5d-0635d36b7806",
   "metadata": {},
   "outputs": [],
   "source": []
  }
 ],
 "metadata": {
  "kernelspec": {
   "display_name": "Python 3 (ipykernel)",
   "language": "python",
   "name": "python3"
  },
  "language_info": {
   "codemirror_mode": {
    "name": "ipython",
    "version": 3
   },
   "file_extension": ".py",
   "mimetype": "text/x-python",
   "name": "python",
   "nbconvert_exporter": "python",
   "pygments_lexer": "ipython3",
   "version": "3.11.3"
  }
 },
 "nbformat": 4,
 "nbformat_minor": 5
}
